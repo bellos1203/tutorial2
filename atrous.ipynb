{
 "cells": [
  {
   "cell_type": "markdown",
   "metadata": {},
   "source": [
    "Atrous Convolution Example\n",
    "======================"
   ]
  },
  {
   "cell_type": "code",
   "execution_count": null,
   "metadata": {},
   "outputs": [],
   "source": [
    "import tensorflow as tf\n",
    "import numpy as np,sys"
   ]
  },
  {
   "cell_type": "code",
   "execution_count": null,
   "metadata": {},
   "outputs": [],
   "source": [
    "sess = tf.Session()"
   ]
  },
  {
   "cell_type": "code",
   "execution_count": null,
   "metadata": {},
   "outputs": [],
   "source": [
    "# ========== Experiment Set Up ===========\n",
    "# 0. Create a matrix we want to perform experiments\n",
    "mat_size = 10\n",
    "matrix = np.zeros((mat_size,mat_size)).astype(np.float32)\n",
    "center = np.array([[1,0,1],[0,1,0],[-1,0,-1]])\n",
    "\n",
    "for x in range(4,7):\n",
    "    for y in range(4,7):\n",
    "            matrix[y,x] = center[y-4,x-4]\n",
    "\n",
    "# Create a Kernel \n",
    "kernel = np.array([\n",
    "    [1,2,3],\n",
    "    [4,5,6],\n",
    "    [7,8,9]\n",
    "]).astype(np.float32)\n",
    "\n",
    "print(\"Matrix Shape : \",matrix.shape)\n",
    "print(matrix)\n",
    "print(\"kernel Shape : \",kernel.shape)\n",
    "print(kernel)\n",
    "# ========== Experiment Set Up ==========="
   ]
  },
  {
   "cell_type": "markdown",
   "metadata": {},
   "source": [
    "EXAMPLE 1 - Dilation Factor 1\n",
    "======================="
   ]
  },
  {
   "cell_type": "code",
   "execution_count": null,
   "metadata": {},
   "outputs": [],
   "source": [
    "##### Exercise 1-1 #####\n",
    "matrix_tensor = tf.convert_to_tensor(matrix)\n",
    "matrix_tensor = \n",
    "matrix_tensor = \n",
    "\n",
    "kernel_tensor = tf.convert_to_tensor(kernel)\n",
    "kernel_tensor = \n",
    "kernel_tensor = tf.image.rot90(kernel_tensor,k=2)\n",
    "kernel_tensor = \n",
    "\n",
    "strides = [1,1,1,1]\n",
    "dilations = [1,1,1,1]"
   ]
  },
  {
   "cell_type": "code",
   "execution_count": null,
   "metadata": {},
   "outputs": [],
   "source": [
    "tf_operation1_1 = tf.nn.conv2d(matrix_tensor,\n",
    "                            kernel_tensor,\n",
    "                            strides=strides,padding=\"VALID\",\n",
    "                            dilations=dilations)\n",
    "tf_result = sess.run(tf_operation1_1)\n",
    "print(\"Tensorfow Conv2D Results Shape: \",tf_result.shape)\n",
    "print(np.squeeze(tf_result))\n",
    "\n",
    "print(\"========== Tensorfow Atrous Conv2D Results ===============\")\n",
    "tf_operation1_2 = tf.nn.atrous_conv2d(matrix_tensor,\n",
    "                                    kernel_tensor,\n",
    "                                    rate=1, padding=\"VALID\")\n",
    "tf_result = sess.run(tf_operation1_2)\n",
    "print(\"Tensorfow Atrous Results Shape: \",tf_result.shape)\n",
    "print(np.squeeze(tf_result))"
   ]
  },
  {
   "cell_type": "markdown",
   "metadata": {},
   "source": [
    "EXAMPLE 2 - Dilation Factor 2\n",
    "======================="
   ]
  },
  {
   "cell_type": "code",
   "execution_count": null,
   "metadata": {},
   "outputs": [],
   "source": [
    "kernel2 = np.array([\n",
    "    [1,0,2,0,3],\n",
    "    [0,0,0,0,0],\n",
    "    [4,0,5,0,6],\n",
    "    [0,0,0,0,0],\n",
    "    [7,0,8,0,9]\n",
    "]).astype(np.float32)\n",
    "print('Kernal 2: \\n',kernel2)"
   ]
  },
  {
   "cell_type": "code",
   "execution_count": null,
   "metadata": {},
   "outputs": [],
   "source": [
    "##### Exercise 1-2 ######\n",
    "kernel2_tensor = tf.convert_to_tensor(kernel2)\n",
    "kernel2_tensor = \n",
    "kernel2_tensor = tf.image.rot90(kernel2_tensor,k=2)\n",
    "kernel2_tensor = \n",
    "\n",
    "strides = \n",
    "dilations = \n",
    "\n",
    "print(\"========== Tensorfow Conv2D Results ===============\")\n",
    "tf_operation2_1 = tf.nn.conv2d(matrix_tensor,\n",
    "                             kernel2_tensor,\n",
    "                             strides=strides,padding=\"VALID\",\n",
    "                             dilations=dilations)\n",
    "tf_result = sess.run(tf_operation2_1)\n",
    "print(\"Tensorfow Conv2D Results Shape: \",tf_result.shape)\n",
    "print(np.squeeze(tf_result))\n",
    "\n",
    "print(\"========== Tensorfow Atrous Conv2D Results ===============\")\n",
    "tf_operation2_2 = tf.nn.atrous_conv2d(matrix_tensor,\n",
    "                                    kernel2_tensor,\n",
    "                                    rate=2,padding=\"VALID\")\n",
    "tf_result = sess.run(tf_operation2_2)\n",
    "print(\"Tensorfow Atrous Results Shape: \",tf_result.shape)\n",
    "print(np.squeeze(tf_result))"
   ]
  },
  {
   "cell_type": "code",
   "execution_count": null,
   "metadata": {},
   "outputs": [],
   "source": []
  }
 ],
 "metadata": {
  "kernelspec": {
   "display_name": "Python 3",
   "language": "python",
   "name": "python3"
  },
  "language_info": {
   "codemirror_mode": {
    "name": "ipython",
    "version": 3
   },
   "file_extension": ".py",
   "mimetype": "text/x-python",
   "name": "python",
   "nbconvert_exporter": "python",
   "pygments_lexer": "ipython3",
   "version": "3.5.2"
  }
 },
 "nbformat": 4,
 "nbformat_minor": 2
}
